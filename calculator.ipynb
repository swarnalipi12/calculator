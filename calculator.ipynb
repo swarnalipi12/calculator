{
 "cells": [
  {
   "cell_type": "markdown",
   "id": "ca76cfe0-7682-4eba-8654-69206ada0559",
   "metadata": {},
   "source": [
    "# 🧮 Simple Calculator\n",
    "\n",
    "This calculator can perform:  \n",
    "- ➕ Addition  \n",
    "- ➖ Subtraction  \n",
    "- ✖️ Multiplication  \n",
    "- ➗ Division  \n",
    "- % Modulus  \n",
    "\n",
    "Enter two numbers and select an operation to get the result.\n"
   ]
  },
  {
   "cell_type": "code",
   "execution_count": 1,
   "id": "7aa9eb3d-b071-45e6-927f-e7a87988cdad",
   "metadata": {},
   "outputs": [
    {
     "name": "stdin",
     "output_type": "stream",
     "text": [
      "Enter the first number:  3\n",
      "Enter the second number:  6\n"
     ]
    },
    {
     "data": {
      "text/plain": [
       "(3.0, 6.0)"
      ]
     },
     "execution_count": 1,
     "metadata": {},
     "output_type": "execute_result"
    }
   ],
   "source": [
    "# Input two numbers\n",
    "num1 = float(input(\"Enter the first number: \"))\n",
    "num2 = float(input(\"Enter the second number: \"))\n",
    "\n",
    "(num1, num2)  # Show input numbers\n"
   ]
  },
  {
   "cell_type": "markdown",
   "id": "38c34b97-edf0-4676-ad71-8bbd8a8c9150",
   "metadata": {},
   "source": [
    "## 🔢 Select an Operation\n",
    "\n",
    "Choose one of the following operations:  \n",
    "- Type `+` for Addition  \n",
    "- Type `-` for Subtraction  \n",
    "- Type `*` for Multiplication  \n",
    "- Type `/` for Division  \n",
    "- Type `%` for Modulus\n"
   ]
  },
  {
   "cell_type": "code",
   "execution_count": 2,
   "id": "1092c63e-3912-421d-b5cf-6d18278f1d60",
   "metadata": {},
   "outputs": [
    {
     "name": "stdin",
     "output_type": "stream",
     "text": [
      "Enter operation (+, -, *, /, %):  +\n"
     ]
    },
    {
     "data": {
      "text/plain": [
       "'+'"
      ]
     },
     "execution_count": 2,
     "metadata": {},
     "output_type": "execute_result"
    }
   ],
   "source": [
    "# Input the operation\n",
    "operation = input(\"Enter operation (+, -, *, /, %): \")\n",
    "\n",
    "operation  # Display selected operation\n"
   ]
  },
  {
   "cell_type": "markdown",
   "id": "3281a802-0d4e-4b3b-a81a-10e6f2d5b3af",
   "metadata": {},
   "source": [
    "## ✅ Result of the Calculation\n"
   ]
  },
  {
   "cell_type": "code",
   "execution_count": 3,
   "id": "822de1e7-9e4f-45e0-945e-6de0e3021292",
   "metadata": {},
   "outputs": [
    {
     "data": {
      "text/plain": [
       "'Result: 3.0 + 6.0 = 9.0'"
      ]
     },
     "metadata": {},
     "output_type": "display_data"
    }
   ],
   "source": [
    "from IPython.display import display\n",
    "\n",
    "if operation == '+':\n",
    "    result = num1 + num2\n",
    "    display(f\"Result: {num1} + {num2} = {result}\")\n",
    "    \n",
    "elif operation == '-':\n",
    "    result = num1 - num2\n",
    "    display(f\"Result: {num1} - {num2} = {result}\")\n",
    "    \n",
    "elif operation == '*':\n",
    "    result = num1 * num2\n",
    "    display(f\"Result: {num1} * {num2} = {result}\")\n",
    "    \n",
    "elif operation == '/':\n",
    "    if num2 != 0:\n",
    "        result = num1 / num2\n",
    "        display(f\"Result: {num1} / {num2} = {result}\")\n",
    "    else:\n",
    "        display(\"❌ Error: Division by zero is not allowed.\")\n",
    "        \n",
    "elif operation == '%':\n",
    "    if num2 != 0:\n",
    "        result = num1 % num2\n",
    "        display(f\"Result: {num1} % {num2} = {result}\")\n",
    "    else:\n",
    "        display(\"❌ Error: Modulus by zero is not allowed.\")\n",
    "        \n",
    "else:\n",
    "    display(\"❌ Invalid operation selected.\")\n"
   ]
  },
  {
   "cell_type": "code",
   "execution_count": null,
   "id": "422f4e3a-2831-45b6-9ce4-0ac2f0ea2b5e",
   "metadata": {},
   "outputs": [],
   "source": []
  }
 ],
 "metadata": {
  "kernelspec": {
   "display_name": "Python 3 (ipykernel)",
   "language": "python",
   "name": "python3"
  },
  "language_info": {
   "codemirror_mode": {
    "name": "ipython",
    "version": 3
   },
   "file_extension": ".py",
   "mimetype": "text/x-python",
   "name": "python",
   "nbconvert_exporter": "python",
   "pygments_lexer": "ipython3",
   "version": "3.13.3"
  }
 },
 "nbformat": 4,
 "nbformat_minor": 5
}
